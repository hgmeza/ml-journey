{
 "cells": [
  {
   "cell_type": "markdown",
   "id": "a750973d",
   "metadata": {},
   "source": [
    "# Linear Regression\n",
    "\n",
    "It is also known as the \"line of best fit\" and its considered to be as supervised learning. For regression, we are looking at an output (Y), which is a number. Because the output we are looking at is a number, it inherits the name as regression. Its counter part is called \"classification\". Classification is not looking for an output number, but instead a label.\n",
    "\n",
    "For example: Prediciting tomorrow's weather yields a number - hence regression. Prediciting that a picture has a cat yields to a label - hence classification.\n",
    "\n",
    "In general, a simple linear regression will be composed of the following:\n",
    "\n",
    "- We are given a set of points: { (x1, y1), (x2, y2), ..., (xn, yn) }\n",
    "- We plot this data into a 2D chart\n",
    "- We find the line of best fit\n",
    "\n",
    "## 1 Dimensional Model\n",
    "\n",
    "We have to remember first that the equation of the line is \n",
    "$$y = mx + b$$\n",
    "\n",
    "where $$m \\rightarrow slope$$ and $$y \\rightarrow y-intercept $$\n",
    "\n",
    "or in more general terms\n",
    "\n",
    "$$\\hat y_i = ax_i+b$$\n",
    "\n",
    "and we make sure that the data \"fits\" by doing:\n",
    "$$\n",
    "y_i \\ close \\ to \\ \\hat y_i, \\ i=1...N\n",
    "$$\n",
    "\n",
    "where $$y_i \\rightarrow is \\ the \\ data \\ collected \\ from \\ an \\ experiment$$ and\n",
    "$$\\hat y \\rightarrow is \\ the \\ prediction \\ made \\ from \\ x_i$$\n",
    "\n",
    "One way of thinking on how to do this is by taking the difference like\n",
    "$$Error = \\sum_{i=1}^{N}(y_i - \\hat y_i)$$\n",
    "\n",
    "But this would yield to an error. For example, if one sample gives us +5 and the other -5, then the sum would be zero! And this is clearly an error.\n",
    "\n",
    "What we really want is called the \"sum of squared errors\". In essence, for any target that is not equal to a prediction, we want a positive contribution to the error:\n",
    "$$Error = \\sum_{i=1}^{N}(y_i - \\hat y_i)^2$$\n",
    "\n",
    "And now given this error expression, what we want to do is minimize it. This is where some calculus comes in to play.\n",
    "\n",
    "Suppose that we have the equation:\n",
    "$$E = 0.5t^2 -t$$\n",
    "\n",
    "what we want to do is take the derivative with respect to t, and set that to zero, and solve for t.\n",
    "$$\\frac{\\partial E}{\\partial t} = t - 1 = 0 \\rightarrow t = 1$$\n",
    "\n",
    "However, we have defined y-hat before, and hence this overall equation can become:\n",
    "$$Error = \\sum_{i=1}^{N}(y_i - (ax_i+b))^2$$\n",
    "\n",
    "And hence we need to use partial derivatives because E is a function of 2 variables:\n",
    "$$\\frac{\\partial E}{\\partial a} = \\sum_{i=1}^{N}2(y_i - (ax_i + b))(-x_i)$$\n",
    "\n",
    "And because we want to minize, we set that to zero and try to solve for a:\n",
    "$$\\frac{\\partial E}{\\partial a} = \\sum_{i=1}^{N}2(y_i - (ax_i + b))(-x_i) = 0$$\n",
    "$$\\rightarrow 2\\sum_{i=1}^{N}(y_i - (ax_i + b))(-x_i) = 0$$\n",
    "$$\\rightarrow \\sum_{i=1}^{N}-(y_ix_i) + \\sum_{i=1}^{N} (ax_i^2 + bx_i)) = 0$$\n",
    "$$\\rightarrow -\\sum_{i=1}^{N}y_ix_i + a\\sum_{i=1}^{N}x_i^2 + b\\sum_{i=1}^{N}x_i = 0$$\n",
    "\n",
    "by re-arranging:\n",
    "$$a = \\frac{\\sum_{i=1}^{N}x_iy_i - b\\sum_{i=1}^{N}x_i}{\\sum_{i=1}^{N}x_i^2}$$"
   ]
  },
  {
   "cell_type": "markdown",
   "id": "1873272b",
   "metadata": {},
   "source": [
    "We have found one of two unknowns. Now lets calculate for b:\n",
    "\n",
    "$$\\frac{\\partial E}{\\partial b} = \\sum_{i=1}^{N}2(y_i - (ax_i + b))(-1) = 0$$"
   ]
  },
  {
   "cell_type": "markdown",
   "id": "f8d8d2df",
   "metadata": {},
   "source": [
    "$$\\rightarrow \\sum_{i=1}^{N}ax_i + bN - \\sum_{i=1}^{N}y_i = 0$$\n",
    "\n",
    "\n",
    "$$\\rightarrow b = \\frac{\\sum y_i - a\\sum x_i}{N}$$\n",
    "\n",
    "Because we have the sum of y divided by N, that is the actual definition of the mean. Therefore we have\n",
    "$$b = \\bar y - a\\bar x$$\n",
    "\n",
    "By using the substitution method, then we can conclude that both a and b are:\n",
    "\n",
    "$$a = \\frac{\\sum y_ix_i - \\bar y\\sum x_i}{\\sum x_i^2 - \\bar x\\sum x_i}$$\n",
    "\n",
    "\n",
    "$$b = \\frac{\\bar y\\sum x_i^2 - \\bar x\\sum y_ix_i}{\\sum x_i^2 - \\bar x\\sum x_i}$$\n",
    "\n",
    "Now lets put this theory into code:"
   ]
  },
  {
   "cell_type": "code",
   "execution_count": 1,
   "id": "8d804101",
   "metadata": {},
   "outputs": [],
   "source": [
    "import numpy as np\n",
    "import matplotlib.pyplot as plt\n"
   ]
  },
  {
   "cell_type": "code",
   "execution_count": 2,
   "id": "a2fdcf41",
   "metadata": {},
   "outputs": [
    {
     "name": "stdout",
     "output_type": "stream",
     "text": [
      "  % Total    % Received % Xferd  Average Speed   Time    Time     Time  Current\n",
      "                                 Dload  Upload   Total   Spent    Left  Speed\n",
      "100  2770  100  2770    0     0  18481      0 --:--:-- --:--:-- --:--:-- 18843\n"
     ]
    }
   ],
   "source": [
    "!curl -O https://ml-journey.s3.amazonaws.com/data_1d.csv"
   ]
  },
  {
   "cell_type": "code",
   "execution_count": 3,
   "id": "402ef3eb",
   "metadata": {},
   "outputs": [
    {
     "name": "stdout",
     "output_type": "stream",
     "text": [
      "95.724162408,197.179636092\r\n",
      "35.7576189281,67.5906695414\r\n",
      "28.8168474238,60.8541328206\r\n",
      "99.9584813087,196.907396981\r\n",
      "66.8097483121,125.311128524\r\n",
      "58.2156926413,115.785784589\r\n",
      "53.8210763379,110.762772705\r\n",
      "81.2960821704,157.98528569\r\n",
      "80.6486970595,159.61941373\r\n",
      "78.2528136925,149.003865539\r\n"
     ]
    }
   ],
   "source": [
    "!head data_1d.csv"
   ]
  },
  {
   "cell_type": "code",
   "execution_count": 4,
   "id": "7b105fc5",
   "metadata": {},
   "outputs": [
    {
     "data": {
      "image/png": "[encoded data removed]",
      "text/plain": [
       "<Figure size 432x288 with 1 Axes>"
      ]
     },
     "metadata": {
      "needs_background": "light"
     },
     "output_type": "display_data"
    }
   ],
   "source": [
    "# load data\n",
    "X = []\n",
    "Y = []\n",
    "for line in open('data_1d.csv'):\n",
    "    x, y = line.split(',')\n",
    "    X.append(float(x))\n",
    "    Y.append(float(y))\n",
    "\n",
    "# turn them into numpy arrays\n",
    "X = np.array(X)\n",
    "Y = np.array(Y)\n",
    "\n",
    "# plot data\n",
    "plt.scatter(X, Y)\n",
    "plt.show()"
   ]
  },
  {
   "cell_type": "code",
   "execution_count": 5,
   "id": "b9a2f617",
   "metadata": {},
   "outputs": [],
   "source": [
    "# apply the equations to calculate a and b\n",
    "\n",
    "denominator = X.dot(X) - X.mean() * X.sum()\n",
    "a = (X.dot(Y) - Y.mean() * X.sum()) / denominator\n",
    "b = (Y.mean() * X.dot(X) - X.mean() * X.dot(Y)) / denominator"
   ]
  },
  {
   "cell_type": "code",
   "execution_count": 6,
   "id": "e5859613",
   "metadata": {
    "scrolled": true
   },
   "outputs": [
    {
     "data": {
      "image/png": "[encoded data removed]",
      "text/plain": [
       "<Figure size 432x288 with 1 Axes>"
      ]
     },
     "metadata": {
      "needs_background": "light"
     },
     "output_type": "display_data"
    }
   ],
   "source": [
    "# calculate predicted Y\n",
    "Yhat = a*X + b\n",
    "plt.scatter(X,Y)\n",
    "plt.plot(X, Yhat)\n",
    "plt.show()"
   ]
  },
  {
   "cell_type": "markdown",
   "id": "bc031f8e",
   "metadata": {},
   "source": [
    "As denoted by the plot, we can confirm that the line goes through all the points."
   ]
  },
  {
   "cell_type": "markdown",
   "id": "78e173a7",
   "metadata": {},
   "source": [
    "## R Squared\n",
    "\n",
    "By using the r-squared method, we determine/measure the effectiveness of our model. This is a numerical measure. It can be used for linear regression, and other types of regression.\n",
    "\n",
    "The definition of the r-squared is:\n",
    "\n",
    "$$R^2 = 1 - \\frac{SS_{res}}{SS_{tot}}$$\n",
    "\n",
    "where $$SS_{res} \\rightarrow is \\ the \\ square \\ error \\ from \\ before \\rightarrow \\sum_{i=1}^{N}(y_i - \\hat y)^2 $$\n",
    "\n",
    "and $$SS_{tot} \\rightarrow \\sum (y_i - \\bar y)^2$$\n",
    "\n",
    "Therefore, say if we had the sum of squares residual (SS res) to be a value close to zero, then we would have:\n",
    "\n",
    "$$R^2 \\simeq 1 - 0 \\simeq 1$$\n",
    "\n",
    "which mean that is a perfect model. \n",
    "\n",
    "Say that we also had an r-square = 0, then it means that we just predicted the average of y, and the model is not very good. Usually this is caused when the scatter plot is all over and in essence the line of best fit is the mean of y.\n",
    "\n",
    "Finally, say that we had an r-squared < 0, the model is definitely not working."
   ]
  },
  {
   "cell_type": "code",
   "execution_count": 7,
   "id": "59593986",
   "metadata": {},
   "outputs": [
    {
     "data": {
      "text/plain": [
       "0.9911838202977805"
      ]
     },
     "execution_count": 7,
     "metadata": {},
     "output_type": "execute_result"
    }
   ],
   "source": [
    "SSres = (Y - Yhat).dot(Y - Yhat)\n",
    "SStot = (Y - Y.mean()).dot(Y - Y.mean())\n",
    "r2 = 1 - SSres/SStot\n",
    "r2"
   ]
  },
  {
   "cell_type": "markdown",
   "id": "3aa44e4f",
   "metadata": {},
   "source": [
    "Which tells us that its a pretty good model (of course, based on the plot and line of best fit!)"
   ]
  }
 ],
 "metadata": {
  "kernelspec": {
   "display_name": "Python 3 (ipykernel)",
   "language": "python",
   "name": "python3"
  },
  "language_info": {
   "codemirror_mode": {
    "name": "ipython",
    "version": 3
   },
   "file_extension": ".py",
   "mimetype": "text/x-python",
   "name": "python",
   "nbconvert_exporter": "python",
   "pygments_lexer": "ipython3",
   "version": "3.9.9"
  }
 },
 "nbformat": 4,
 "nbformat_minor": 5
}
